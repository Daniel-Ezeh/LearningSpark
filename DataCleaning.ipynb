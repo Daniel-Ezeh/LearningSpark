{
 "cells": [
  {
   "cell_type": "markdown",
   "metadata": {},
   "source": [
    "# Pyspark Handling Missing Values\n",
    "\n",
    "* Dropping Columns\n",
    "* Dropping Rows\n",
    "* Various Parameter in Dropping functionalities.\n",
    "* Handling Missing values by Mean, Median and Mode."
   ]
  },
  {
   "cell_type": "code",
   "execution_count": 2,
   "metadata": {},
   "outputs": [],
   "source": [
    "from pyspark.sql import SparkSession\n",
    "spark = SparkSession.builder.appName('Practise').getOrCreate()"
   ]
  },
  {
   "cell_type": "code",
   "execution_count": 20,
   "metadata": {},
   "outputs": [],
   "source": [
    "df_pyspark = spark.read.csv('DataClean.csv', header=True, inferSchema=True)"
   ]
  },
  {
   "cell_type": "code",
   "execution_count": 21,
   "metadata": {},
   "outputs": [
    {
     "name": "stdout",
     "output_type": "stream",
     "text": [
      "+--------+----+----------+------+\n",
      "|    Name| Age|Experience|Salary|\n",
      "+--------+----+----------+------+\n",
      "|   David|  21|        10| 30000|\n",
      "|    Paul|  31|         3| 25000|\n",
      "|Jonathan|  26|         6| 18000|\n",
      "| Phillip|  19|         4| 16000|\n",
      "|  Mathew|NULL|         4| 26000|\n",
      "|  Hakeem|  34|      NULL| 29000|\n",
      "|Suleiman|  23|         5| 21000|\n",
      "|    Hawa|NULL|      NULL| 25000|\n",
      "|    NULL|  26|         9|  NULL|\n",
      "|    NULL|  20|      NULL| 23000|\n",
      "+--------+----+----------+------+\n",
      "\n"
     ]
    }
   ],
   "source": [
    "df_pyspark.show()"
   ]
  },
  {
   "cell_type": "code",
   "execution_count": 22,
   "metadata": {},
   "outputs": [
    {
     "name": "stdout",
     "output_type": "stream",
     "text": [
      "+----+----------+------+\n",
      "| Age|Experience|Salary|\n",
      "+----+----------+------+\n",
      "|  21|        10| 30000|\n",
      "|  31|         3| 25000|\n",
      "|  26|         6| 18000|\n",
      "|  19|         4| 16000|\n",
      "|NULL|         4| 26000|\n",
      "|  34|      NULL| 29000|\n",
      "|  23|         5| 21000|\n",
      "|NULL|      NULL| 25000|\n",
      "|  26|         9|  NULL|\n",
      "|  20|      NULL| 23000|\n",
      "+----+----------+------+\n",
      "\n"
     ]
    }
   ],
   "source": [
    "##drop the columns\n",
    "dp = df_pyspark.drop('Name')\n",
    "dp.show()"
   ]
  },
  {
   "cell_type": "code",
   "execution_count": 23,
   "metadata": {},
   "outputs": [
    {
     "name": "stdout",
     "output_type": "stream",
     "text": [
      "+--------+----+----------+------+\n",
      "|    Name| Age|Experience|Salary|\n",
      "+--------+----+----------+------+\n",
      "|   David|  21|        10| 30000|\n",
      "|    Paul|  31|         3| 25000|\n",
      "|Jonathan|  26|         6| 18000|\n",
      "| Phillip|  19|         4| 16000|\n",
      "|  Mathew|NULL|         4| 26000|\n",
      "|  Hakeem|  34|      NULL| 29000|\n",
      "|Suleiman|  23|         5| 21000|\n",
      "|    Hawa|NULL|      NULL| 25000|\n",
      "|    NULL|  26|         9|  NULL|\n",
      "|    NULL|  20|      NULL| 23000|\n",
      "+--------+----+----------+------+\n",
      "\n"
     ]
    }
   ],
   "source": [
    "df_pyspark.show()"
   ]
  },
  {
   "cell_type": "code",
   "execution_count": 29,
   "metadata": {},
   "outputs": [
    {
     "name": "stdout",
     "output_type": "stream",
     "text": [
      "+--------+---+----------+------+\n",
      "|    Name|Age|Experience|Salary|\n",
      "+--------+---+----------+------+\n",
      "|   David| 21|        10| 30000|\n",
      "|    Paul| 31|         3| 25000|\n",
      "|Jonathan| 26|         6| 18000|\n",
      "| Phillip| 19|         4| 16000|\n",
      "|Suleiman| 23|         5| 21000|\n",
      "+--------+---+----------+------+\n",
      "\n"
     ]
    }
   ],
   "source": [
    "dp_na = df_pyspark.na.drop()\n",
    "dp_na.show()"
   ]
  },
  {
   "cell_type": "code",
   "execution_count": 31,
   "metadata": {},
   "outputs": [
    {
     "name": "stdout",
     "output_type": "stream",
     "text": [
      "+--------+----+----------+------+\n",
      "|    Name| Age|Experience|Salary|\n",
      "+--------+----+----------+------+\n",
      "|   David|  21|        10| 30000|\n",
      "|    Paul|  31|         3| 25000|\n",
      "|Jonathan|  26|         6| 18000|\n",
      "| Phillip|  19|         4| 16000|\n",
      "|  Mathew|NULL|         4| 26000|\n",
      "|  Hakeem|  34|      NULL| 29000|\n",
      "|Suleiman|  23|         5| 21000|\n",
      "+--------+----+----------+------+\n",
      "\n"
     ]
    }
   ],
   "source": [
    "### any==how\n",
    "# we have 'any' and 'all'\n",
    "# thres = \"atleast n non-null value.\"\n",
    "# subset\n",
    "dp_na = df_pyspark.na.drop(how='all', thresh=3)\n",
    "dp_na.show()"
   ]
  },
  {
   "cell_type": "code",
   "execution_count": 34,
   "metadata": {},
   "outputs": [
    {
     "name": "stdout",
     "output_type": "stream",
     "text": [
      "+--------+---+----------+------+\n",
      "|    Name|Age|Experience|Salary|\n",
      "+--------+---+----------+------+\n",
      "|   David| 21|        10| 30000|\n",
      "|    Paul| 31|         3| 25000|\n",
      "|Jonathan| 26|         6| 18000|\n",
      "| Phillip| 19|         4| 16000|\n",
      "|  Hakeem| 34|      NULL| 29000|\n",
      "|Suleiman| 23|         5| 21000|\n",
      "|    NULL| 26|         9|  NULL|\n",
      "|    NULL| 20|      NULL| 23000|\n",
      "+--------+---+----------+------+\n",
      "\n"
     ]
    }
   ],
   "source": [
    "# subset\n",
    "# Applying the na method to a specific column\n",
    "dp_na = df_pyspark.na.drop(how='all', subset=['Age'])\n",
    "dp_na.show()"
   ]
  },
  {
   "cell_type": "code",
   "execution_count": 44,
   "metadata": {},
   "outputs": [
    {
     "name": "stdout",
     "output_type": "stream",
     "text": [
      "+--------+----+----------+------+\n",
      "|    Name| Age|Experience|Salary|\n",
      "+--------+----+----------+------+\n",
      "|   David|  21|        10| 30000|\n",
      "|    Paul|  31|         3| 25000|\n",
      "|Jonathan|  26|         6| 18000|\n",
      "| Phillip|  19|         4| 16000|\n",
      "|  Mathew|NULL|         4| 26000|\n",
      "|  Hakeem|  34|      NULL| 29000|\n",
      "|Suleiman|  23|         5| 21000|\n",
      "|    Hawa|NULL|      NULL| 25000|\n",
      "|    NULL|  26|         9|  NULL|\n",
      "|    NULL|  20|      NULL| 23000|\n",
      "+--------+----+----------+------+\n",
      "\n"
     ]
    }
   ],
   "source": [
    "## Filling the Missing value\n",
    "df_pyspark.na.fill(\"Missing\", 'Experience').show()"
   ]
  },
  {
   "cell_type": "code",
   "execution_count": 49,
   "metadata": {},
   "outputs": [],
   "source": [
    "from pyspark.ml.feature import Imputer\n",
    "\n",
    "mylist = [\"Age\", 'Experience', 'Salary']\n",
    "imputer = Imputer(\n",
    "    inputCols=mylist,\n",
    "    outputCols=[f\"{c}_imputed\" for c in mylist]\n",
    ").setStrategy(\"mean\")"
   ]
  },
  {
   "cell_type": "code",
   "execution_count": 50,
   "metadata": {},
   "outputs": [
    {
     "name": "stdout",
     "output_type": "stream",
     "text": [
      "+--------+----+----------+------+-----------+------------------+--------------+\n",
      "|    Name| Age|Experience|Salary|Age_imputed|Experience_imputed|Salary_imputed|\n",
      "+--------+----+----------+------+-----------+------------------+--------------+\n",
      "|   David|  21|        10| 30000|         21|                10|         30000|\n",
      "|    Paul|  31|         3| 25000|         31|                 3|         25000|\n",
      "|Jonathan|  26|         6| 18000|         26|                 6|         18000|\n",
      "| Phillip|  19|         4| 16000|         19|                 4|         16000|\n",
      "|  Mathew|NULL|         4| 26000|         25|                 4|         26000|\n",
      "|  Hakeem|  34|      NULL| 29000|         34|                 5|         29000|\n",
      "|Suleiman|  23|         5| 21000|         23|                 5|         21000|\n",
      "|    Hawa|NULL|      NULL| 25000|         25|                 5|         25000|\n",
      "|    NULL|  26|         9|  NULL|         26|                 9|         23666|\n",
      "|    NULL|  20|      NULL| 23000|         20|                 5|         23000|\n",
      "+--------+----+----------+------+-----------+------------------+--------------+\n",
      "\n"
     ]
    }
   ],
   "source": [
    "imputer.fit(df_pyspark).transform(df_pyspark).show()"
   ]
  },
  {
   "cell_type": "markdown",
   "metadata": {},
   "source": [
    "## Filter Operations\n",
    "\n",
    "* &, |, ==\n",
    "* ~"
   ]
  },
  {
   "cell_type": "code",
   "execution_count": 2,
   "metadata": {},
   "outputs": [],
   "source": [
    "from pyspark.sql import SparkSession\n",
    "spark = SparkSession.builder.appName(\"Filter\").getOrCreate()"
   ]
  },
  {
   "cell_type": "code",
   "execution_count": 5,
   "metadata": {},
   "outputs": [
    {
     "name": "stdout",
     "output_type": "stream",
     "text": [
      "+--------+---+----------+------+\n",
      "|    Name|Age|Experience|Salary|\n",
      "+--------+---+----------+------+\n",
      "|   David| 21|        10| 30000|\n",
      "|    Paul| 31|         3| 25000|\n",
      "|Jonathan| 26|         6| 18000|\n",
      "| Phillip| 19|         4| 16000|\n",
      "|Suleiman| 23|         5| 21000|\n",
      "+--------+---+----------+------+\n",
      "\n"
     ]
    }
   ],
   "source": [
    "df_spark = spark.read.csv('filter.csv', header=True, inferSchema=True)\n",
    "df_spark.show()"
   ]
  },
  {
   "cell_type": "code",
   "execution_count": 7,
   "metadata": {},
   "outputs": [
    {
     "name": "stdout",
     "output_type": "stream",
     "text": [
      "root\n",
      " |-- Name: string (nullable = true)\n",
      " |-- Age: integer (nullable = true)\n",
      " |-- Experience: integer (nullable = true)\n",
      " |-- Salary: integer (nullable = true)\n",
      "\n"
     ]
    }
   ],
   "source": [
    "df_spark.printSchema()"
   ]
  },
  {
   "cell_type": "code",
   "execution_count": 10,
   "metadata": {},
   "outputs": [
    {
     "name": "stdout",
     "output_type": "stream",
     "text": [
      "+--------+---+----------+------+\n",
      "|    Name|Age|Experience|Salary|\n",
      "+--------+---+----------+------+\n",
      "|Jonathan| 26|         6| 18000|\n",
      "| Phillip| 19|         4| 16000|\n",
      "+--------+---+----------+------+\n",
      "\n"
     ]
    }
   ],
   "source": [
    "### Salary of the people less than or equal to 20000\n",
    "df_spark.filter('Salary<=20000').show()"
   ]
  },
  {
   "cell_type": "code",
   "execution_count": 11,
   "metadata": {},
   "outputs": [
    {
     "name": "stdout",
     "output_type": "stream",
     "text": [
      "+--------+------+\n",
      "|    Name|Salary|\n",
      "+--------+------+\n",
      "|   David| 30000|\n",
      "|    Paul| 25000|\n",
      "|Suleiman| 21000|\n",
      "+--------+------+\n",
      "\n"
     ]
    }
   ],
   "source": [
    "df_spark.filter(\"Salary > 20000\").select(['Name','Salary']).show()"
   ]
  },
  {
   "cell_type": "code",
   "execution_count": 12,
   "metadata": {},
   "outputs": [
    {
     "name": "stdout",
     "output_type": "stream",
     "text": [
      "+-----+---+----------+------+\n",
      "| Name|Age|Experience|Salary|\n",
      "+-----+---+----------+------+\n",
      "|David| 21|        10| 30000|\n",
      "+-----+---+----------+------+\n",
      "\n"
     ]
    }
   ],
   "source": [
    "## Combining filters\n",
    "df_spark.filter((df_spark['Salary']>25000) &\n",
    "                (df_spark['Age']>20)\n",
    "                ).show()"
   ]
  },
  {
   "cell_type": "code",
   "execution_count": 13,
   "metadata": {},
   "outputs": [
    {
     "name": "stdout",
     "output_type": "stream",
     "text": [
      "+--------+----------+\n",
      "|    Name|Experience|\n",
      "+--------+----------+\n",
      "|   David|        10|\n",
      "|    Paul|         3|\n",
      "|Jonathan|         6|\n",
      "|Suleiman|         5|\n",
      "+--------+----------+\n",
      "\n"
     ]
    }
   ],
   "source": [
    "df_spark.filter((df_spark['Salary']>25000) |\n",
    "                (df_spark['Age']>20)\n",
    "                ).select(['Name','Experience']).show()"
   ]
  },
  {
   "cell_type": "code",
   "execution_count": 15,
   "metadata": {},
   "outputs": [
    {
     "name": "stdout",
     "output_type": "stream",
     "text": [
      "+--------+----------+\n",
      "|    Name|Experience|\n",
      "+--------+----------+\n",
      "|    Paul|         3|\n",
      "|Jonathan|         6|\n",
      "| Phillip|         4|\n",
      "|Suleiman|         5|\n",
      "+--------+----------+\n",
      "\n"
     ]
    }
   ],
   "source": [
    "## Inverse operation\n",
    "df_spark.filter(~(df_spark['Salary']>25000)\n",
    "                ).select(['Name','Experience']).show()"
   ]
  },
  {
   "cell_type": "markdown",
   "metadata": {},
   "source": [
    "## GroupBy and Aggregation"
   ]
  },
  {
   "cell_type": "code",
   "execution_count": null,
   "metadata": {},
   "outputs": [],
   "source": []
  },
  {
   "cell_type": "code",
   "execution_count": null,
   "metadata": {},
   "outputs": [],
   "source": []
  },
  {
   "cell_type": "code",
   "execution_count": null,
   "metadata": {},
   "outputs": [],
   "source": []
  },
  {
   "cell_type": "code",
   "execution_count": null,
   "metadata": {},
   "outputs": [],
   "source": []
  }
 ],
 "metadata": {
  "kernelspec": {
   "display_name": "Python 3",
   "language": "python",
   "name": "python3"
  },
  "language_info": {
   "codemirror_mode": {
    "name": "ipython",
    "version": 3
   },
   "file_extension": ".py",
   "mimetype": "text/x-python",
   "name": "python",
   "nbconvert_exporter": "python",
   "pygments_lexer": "ipython3",
   "version": "3.12.1"
  }
 },
 "nbformat": 4,
 "nbformat_minor": 2
}
