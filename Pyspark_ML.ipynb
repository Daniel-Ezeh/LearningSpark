{
 "cells": [
  {
   "cell_type": "code",
   "execution_count": 2,
   "metadata": {},
   "outputs": [],
   "source": [
    "from pyspark.sql import SparkSession\n",
    "spark = SparkSession.builder.appName(\"Missing\").getOrCreate()"
   ]
  },
  {
   "cell_type": "code",
   "execution_count": 3,
   "metadata": {},
   "outputs": [
    {
     "name": "stdout",
     "output_type": "stream",
     "text": [
      "+--------+---+----------+------+\n",
      "|    Name|Age|Experience|Salary|\n",
      "+--------+---+----------+------+\n",
      "|   David| 21|        10| 30000|\n",
      "|    Paul| 31|         3| 25000|\n",
      "|Jonathan| 26|         6| 18000|\n",
      "| Phillip| 19|         4| 16000|\n",
      "|Suleiman| 23|         5| 21000|\n",
      "+--------+---+----------+------+\n",
      "\n"
     ]
    }
   ],
   "source": [
    "## Reading the dataset\n",
    "training = spark.read.csv('filter.csv', header=True, inferSchema=True)\n",
    "training.show()"
   ]
  },
  {
   "cell_type": "code",
   "execution_count": 4,
   "metadata": {},
   "outputs": [
    {
     "name": "stdout",
     "output_type": "stream",
     "text": [
      "root\n",
      " |-- Name: string (nullable = true)\n",
      " |-- Age: integer (nullable = true)\n",
      " |-- Experience: integer (nullable = true)\n",
      " |-- Salary: integer (nullable = true)\n",
      "\n"
     ]
    }
   ],
   "source": [
    "training.printSchema()"
   ]
  },
  {
   "cell_type": "code",
   "execution_count": 5,
   "metadata": {},
   "outputs": [
    {
     "data": {
      "text/plain": [
       "['Name', 'Age', 'Experience', 'Salary']"
      ]
     },
     "execution_count": 5,
     "metadata": {},
     "output_type": "execute_result"
    }
   ],
   "source": [
    "training.columns"
   ]
  },
  {
   "cell_type": "code",
   "execution_count": 9,
   "metadata": {},
   "outputs": [],
   "source": [
    "#  [Age, Experience]-------> new feature----->independent feature\n",
    "from pyspark.ml.feature import VectorAssembler\n",
    "featureassembler = VectorAssembler(inputCols=[\"Age\",\"Experience\"],outputCol=\"Independent Features\")"
   ]
  },
  {
   "cell_type": "code",
   "execution_count": 10,
   "metadata": {},
   "outputs": [
    {
     "name": "stdout",
     "output_type": "stream",
     "text": [
      "+--------+---+----------+------+--------------------+\n",
      "|    Name|Age|Experience|Salary|Independent Features|\n",
      "+--------+---+----------+------+--------------------+\n",
      "|   David| 21|        10| 30000|         [21.0,10.0]|\n",
      "|    Paul| 31|         3| 25000|          [31.0,3.0]|\n",
      "|Jonathan| 26|         6| 18000|          [26.0,6.0]|\n",
      "| Phillip| 19|         4| 16000|          [19.0,4.0]|\n",
      "|Suleiman| 23|         5| 21000|          [23.0,5.0]|\n",
      "+--------+---+----------+------+--------------------+\n",
      "\n"
     ]
    }
   ],
   "source": [
    "output = featureassembler.transform(training)\n",
    "output.show()"
   ]
  },
  {
   "cell_type": "code",
   "execution_count": 11,
   "metadata": {},
   "outputs": [
    {
     "data": {
      "text/plain": [
       "['Name', 'Age', 'Experience', 'Salary', 'Independent Features']"
      ]
     },
     "execution_count": 11,
     "metadata": {},
     "output_type": "execute_result"
    }
   ],
   "source": [
    "output.columns"
   ]
  },
  {
   "cell_type": "code",
   "execution_count": 15,
   "metadata": {},
   "outputs": [
    {
     "name": "stdout",
     "output_type": "stream",
     "text": [
      "+--------------------+------+\n",
      "|Independent Features|Salary|\n",
      "+--------------------+------+\n",
      "|         [21.0,10.0]| 30000|\n",
      "|          [31.0,3.0]| 25000|\n",
      "|          [26.0,6.0]| 18000|\n",
      "|          [19.0,4.0]| 16000|\n",
      "|          [23.0,5.0]| 21000|\n",
      "+--------------------+------+\n",
      "\n"
     ]
    }
   ],
   "source": [
    "finalized_data = output.select(\"Independent Features\", \"Salary\")\n",
    "finalized_data.show()"
   ]
  },
  {
   "cell_type": "code",
   "execution_count": 23,
   "metadata": {},
   "outputs": [
    {
     "name": "stderr",
     "output_type": "stream",
     "text": [
      "24/06/17 22:58:54 WARN Instrumentation: [55de4f81] regParam is zero, which might cause numerical instability and overfitting.\n"
     ]
    }
   ],
   "source": [
    "from pyspark.ml.regression import LinearRegression\n",
    "\n",
    "## Train test split\n",
    "train_data, test_data = finalized_data.randomSplit([0.75, 0.25])\n",
    "regressor = LinearRegression(featuresCol=\"Independent Features\", labelCol=\"Salary\")\n",
    "regressor = regressor.fit(train_data)"
   ]
  },
  {
   "cell_type": "code",
   "execution_count": 24,
   "metadata": {},
   "outputs": [
    {
     "data": {
      "text/plain": [
       "DenseVector([659.7622, 1729.9578])"
      ]
     },
     "execution_count": 24,
     "metadata": {},
     "output_type": "execute_result"
    }
   ],
   "source": [
    "### Coefficients\n",
    "regressor.coefficients"
   ]
  },
  {
   "cell_type": "code",
   "execution_count": 25,
   "metadata": {},
   "outputs": [
    {
     "data": {
      "text/plain": [
       "-3522.0560030688916"
      ]
     },
     "execution_count": 25,
     "metadata": {},
     "output_type": "execute_result"
    }
   ],
   "source": [
    "### Intercepts\n",
    "regressor.intercept"
   ]
  },
  {
   "cell_type": "code",
   "execution_count": null,
   "metadata": {},
   "outputs": [],
   "source": [
    "### Prediction\n",
    "pred_results = regressor.evaluate(test_data)\n",
    "pred_results.predictions.show()"
   ]
  },
  {
   "cell_type": "markdown",
   "metadata": {},
   "source": [
    "## Linear Regression with Pyspark"
   ]
  },
  {
   "cell_type": "code",
   "execution_count": 2,
   "metadata": {},
   "outputs": [],
   "source": [
    "from pyspark.sql import SparkSession\n",
    "spark = SparkSession.builder.appName(\"Test\").getOrCreate()"
   ]
  },
  {
   "cell_type": "code",
   "execution_count": 11,
   "metadata": {},
   "outputs": [
    {
     "name": "stdout",
     "output_type": "stream",
     "text": [
      "+----------------+--------------------+------+------------+------------------+------------+\n",
      "|experience_level|           job_title|salary|company_size|employee_residence|remote_ratio|\n",
      "+----------------+--------------------+------+------------+------------------+------------+\n",
      "|              SE|         AI Engineer|202730|           M|                US|          90|\n",
      "|              SE|         AI Engineer| 92118|           M|                US|          40|\n",
      "|              SE|       Data Engineer|130500|           M|                US|          36|\n",
      "|              SE|       Data Engineer| 96000|           M|                US|          55|\n",
      "|              SE|Machine Learning ...|190000|           M|                US|          26|\n",
      "|              SE|Machine Learning ...|160000|           M|                US|          33|\n",
      "|              MI|         ML Engineer|400000|           M|                US|          16|\n",
      "|              MI|         ML Engineer| 65000|           M|                US|          30|\n",
      "|              EN|        Data Analyst|101520|           M|                US|          82|\n",
      "|              EN|        Data Analyst| 45864|           M|                US|          81|\n",
      "|              SE|       Data Engineer|172469|           M|                US|          64|\n",
      "|              SE|       Data Engineer|114945|           M|                US|          78|\n",
      "|              EX|        NLP Engineer|200000|           M|                US|          88|\n",
      "|              EX|        NLP Engineer|150000|           M|                US|          95|\n",
      "|              MI|      Data Scientist|156450|           M|                US|          22|\n",
      "|              MI|      Data Scientist|119200|           M|                US|          25|\n",
      "|              SE|        Data Analyst|170000|           M|                US|          65|\n",
      "|              SE|        Data Analyst|130000|           M|                US|          89|\n",
      "|              SE|   Applied Scientist|222200|           L|                US|          82|\n",
      "|              SE|   Applied Scientist|136000|           L|                US|          12|\n",
      "+----------------+--------------------+------+------------+------------------+------------+\n",
      "only showing top 20 rows\n",
      "\n"
     ]
    }
   ],
   "source": [
    "file_path = 'Dataset_salary.csv'\n",
    "df = spark.read.csv(file_path, header=True, inferSchema=True)\n",
    "df.show()"
   ]
  },
  {
   "cell_type": "code",
   "execution_count": null,
   "metadata": {},
   "outputs": [],
   "source": [
    "df.printSchema()"
   ]
  },
  {
   "cell_type": "code",
   "execution_count": null,
   "metadata": {},
   "outputs": [],
   "source": [
    "df.columns"
   ]
  },
  {
   "cell_type": "code",
   "execution_count": 8,
   "metadata": {},
   "outputs": [],
   "source": [
    "### Handling Categorical values\n",
    "from pyspark.ml.feature import StringIndexer\n"
   ]
  },
  {
   "cell_type": "code",
   "execution_count": 25,
   "metadata": {},
   "outputs": [
    {
     "name": "stdout",
     "output_type": "stream",
     "text": [
      "+----------------+--------------------+------+------------+------------------+------------+-------------+\n",
      "|experience_level|           job_title|salary|company_size|employee_residence|remote_ratio|Job_t_indexed|\n",
      "+----------------+--------------------+------+------------+------------------+------------+-------------+\n",
      "|              SE|         AI Engineer|202730|           M|                US|          90|          8.0|\n",
      "|              SE|         AI Engineer| 92118|           M|                US|          40|          8.0|\n",
      "|              SE|       Data Engineer|130500|           M|                US|          36|          2.0|\n",
      "|              SE|       Data Engineer| 96000|           M|                US|          55|          2.0|\n",
      "|              SE|Machine Learning ...|190000|           M|                US|          26|          3.0|\n",
      "|              SE|Machine Learning ...|160000|           M|                US|          33|          3.0|\n",
      "|              MI|         ML Engineer|400000|           M|                US|          16|          7.0|\n",
      "|              MI|         ML Engineer| 65000|           M|                US|          30|          7.0|\n",
      "|              EN|        Data Analyst|101520|           M|                US|          82|          0.0|\n",
      "|              EN|        Data Analyst| 45864|           M|                US|          81|          0.0|\n",
      "|              SE|       Data Engineer|172469|           M|                US|          64|          2.0|\n",
      "|              SE|       Data Engineer|114945|           M|                US|          78|          2.0|\n",
      "|              EX|        NLP Engineer|200000|           M|                US|          88|         18.0|\n",
      "|              EX|        NLP Engineer|150000|           M|                US|          95|         18.0|\n",
      "|              MI|      Data Scientist|156450|           M|                US|          22|          1.0|\n",
      "|              MI|      Data Scientist|119200|           M|                US|          25|          1.0|\n",
      "|              SE|        Data Analyst|170000|           M|                US|          65|          0.0|\n",
      "|              SE|        Data Analyst|130000|           M|                US|          89|          0.0|\n",
      "|              SE|   Applied Scientist|222200|           L|                US|          82|          9.0|\n",
      "|              SE|   Applied Scientist|136000|           L|                US|          12|          9.0|\n",
      "+----------------+--------------------+------+------------+------------------+------------+-------------+\n",
      "only showing top 20 rows\n",
      "\n"
     ]
    }
   ],
   "source": [
    "indexer = StringIndexer(inputCol='job_title', outputCol=\"Job_t_indexed\")\n",
    "df_r = indexer.fit(df).transform(df)\n",
    "df_r.show()"
   ]
  },
  {
   "cell_type": "code",
   "execution_count": 26,
   "metadata": {},
   "outputs": [
    {
     "name": "stdout",
     "output_type": "stream",
     "text": [
      "+----------------+--------------------+------+------------+------------------+------------+-------------+----------------+-----------+------------------+\n",
      "|experience_level|           job_title|salary|company_size|employee_residence|remote_ratio|Job_t_indexed|experience_index|size_inexed|residence_inedexed|\n",
      "+----------------+--------------------+------+------------+------------------+------------+-------------+----------------+-----------+------------------+\n",
      "|              SE|         AI Engineer|202730|           M|                US|          90|          8.0|             0.0|        0.0|               0.0|\n",
      "|              SE|         AI Engineer| 92118|           M|                US|          40|          8.0|             0.0|        0.0|               0.0|\n",
      "|              SE|       Data Engineer|130500|           M|                US|          36|          2.0|             0.0|        0.0|               0.0|\n",
      "|              SE|       Data Engineer| 96000|           M|                US|          55|          2.0|             0.0|        0.0|               0.0|\n",
      "|              SE|Machine Learning ...|190000|           M|                US|          26|          3.0|             0.0|        0.0|               0.0|\n",
      "|              SE|Machine Learning ...|160000|           M|                US|          33|          3.0|             0.0|        0.0|               0.0|\n",
      "|              MI|         ML Engineer|400000|           M|                US|          16|          7.0|             1.0|        0.0|               0.0|\n",
      "|              MI|         ML Engineer| 65000|           M|                US|          30|          7.0|             1.0|        0.0|               0.0|\n",
      "|              EN|        Data Analyst|101520|           M|                US|          82|          0.0|             2.0|        0.0|               0.0|\n",
      "|              EN|        Data Analyst| 45864|           M|                US|          81|          0.0|             2.0|        0.0|               0.0|\n",
      "|              SE|       Data Engineer|172469|           M|                US|          64|          2.0|             0.0|        0.0|               0.0|\n",
      "|              SE|       Data Engineer|114945|           M|                US|          78|          2.0|             0.0|        0.0|               0.0|\n",
      "|              EX|        NLP Engineer|200000|           M|                US|          88|         18.0|             3.0|        0.0|               0.0|\n",
      "|              EX|        NLP Engineer|150000|           M|                US|          95|         18.0|             3.0|        0.0|               0.0|\n",
      "|              MI|      Data Scientist|156450|           M|                US|          22|          1.0|             1.0|        0.0|               0.0|\n",
      "|              MI|      Data Scientist|119200|           M|                US|          25|          1.0|             1.0|        0.0|               0.0|\n",
      "|              SE|        Data Analyst|170000|           M|                US|          65|          0.0|             0.0|        0.0|               0.0|\n",
      "|              SE|        Data Analyst|130000|           M|                US|          89|          0.0|             0.0|        0.0|               0.0|\n",
      "|              SE|   Applied Scientist|222200|           L|                US|          82|          9.0|             0.0|        2.0|               0.0|\n",
      "|              SE|   Applied Scientist|136000|           L|                US|          12|          9.0|             0.0|        2.0|               0.0|\n",
      "+----------------+--------------------+------+------------+------------------+------------+-------------+----------------+-----------+------------------+\n",
      "only showing top 20 rows\n",
      "\n"
     ]
    }
   ],
   "source": [
    "indexer = StringIndexer(inputCols=['experience_level','company_size', 'employee_residence'], \n",
    "                        outputCols=[\"experience_index\",'size_inexed', 'residence_inedexed']\n",
    "                        )\n",
    "df_r = indexer.fit(df_r).transform(df_r)\n",
    "df_r.show()"
   ]
  },
  {
   "cell_type": "code",
   "execution_count": 29,
   "metadata": {},
   "outputs": [
    {
     "data": {
      "text/plain": [
       "['experience_level',\n",
       " 'job_title',\n",
       " 'salary',\n",
       " 'company_size',\n",
       " 'employee_residence',\n",
       " 'remote_ratio',\n",
       " 'Job_t_indexed',\n",
       " 'experience_index',\n",
       " 'size_inexed',\n",
       " 'residence_inedexed']"
      ]
     },
     "execution_count": 29,
     "metadata": {},
     "output_type": "execute_result"
    }
   ],
   "source": [
    "df_r.columns"
   ]
  },
  {
   "cell_type": "code",
   "execution_count": 37,
   "metadata": {},
   "outputs": [],
   "source": [
    "from pyspark.ml.feature import VectorAssembler\n",
    "featureassembler = VectorAssembler(inputCols=['remote_ratio', 'Job_t_indexed',\\\n",
    "                            'size_inexed', 'residence_inedexed'],\n",
    "                outputCol=\"Independent Features\"\n",
    "                )\n",
    "output = featureassembler.transform(df_r) "
   ]
  },
  {
   "cell_type": "code",
   "execution_count": 38,
   "metadata": {},
   "outputs": [
    {
     "name": "stdout",
     "output_type": "stream",
     "text": [
      "+----------------+--------------------+------+------------+------------------+------------+-------------+----------------+-----------+------------------+--------------------+\n",
      "|experience_level|           job_title|salary|company_size|employee_residence|remote_ratio|Job_t_indexed|experience_index|size_inexed|residence_inedexed|Independent Features|\n",
      "+----------------+--------------------+------+------------+------------------+------------+-------------+----------------+-----------+------------------+--------------------+\n",
      "|              SE|         AI Engineer|202730|           M|                US|          90|          8.0|             0.0|        0.0|               0.0|  [90.0,8.0,0.0,0.0]|\n",
      "|              SE|         AI Engineer| 92118|           M|                US|          40|          8.0|             0.0|        0.0|               0.0|  [40.0,8.0,0.0,0.0]|\n",
      "|              SE|       Data Engineer|130500|           M|                US|          36|          2.0|             0.0|        0.0|               0.0|  [36.0,2.0,0.0,0.0]|\n",
      "|              SE|       Data Engineer| 96000|           M|                US|          55|          2.0|             0.0|        0.0|               0.0|  [55.0,2.0,0.0,0.0]|\n",
      "|              SE|Machine Learning ...|190000|           M|                US|          26|          3.0|             0.0|        0.0|               0.0|  [26.0,3.0,0.0,0.0]|\n",
      "|              SE|Machine Learning ...|160000|           M|                US|          33|          3.0|             0.0|        0.0|               0.0|  [33.0,3.0,0.0,0.0]|\n",
      "|              MI|         ML Engineer|400000|           M|                US|          16|          7.0|             1.0|        0.0|               0.0|  [16.0,7.0,0.0,0.0]|\n",
      "|              MI|         ML Engineer| 65000|           M|                US|          30|          7.0|             1.0|        0.0|               0.0|  [30.0,7.0,0.0,0.0]|\n",
      "|              EN|        Data Analyst|101520|           M|                US|          82|          0.0|             2.0|        0.0|               0.0|      (4,[0],[82.0])|\n",
      "|              EN|        Data Analyst| 45864|           M|                US|          81|          0.0|             2.0|        0.0|               0.0|      (4,[0],[81.0])|\n",
      "|              SE|       Data Engineer|172469|           M|                US|          64|          2.0|             0.0|        0.0|               0.0|  [64.0,2.0,0.0,0.0]|\n",
      "|              SE|       Data Engineer|114945|           M|                US|          78|          2.0|             0.0|        0.0|               0.0|  [78.0,2.0,0.0,0.0]|\n",
      "|              EX|        NLP Engineer|200000|           M|                US|          88|         18.0|             3.0|        0.0|               0.0| [88.0,18.0,0.0,0.0]|\n",
      "|              EX|        NLP Engineer|150000|           M|                US|          95|         18.0|             3.0|        0.0|               0.0| [95.0,18.0,0.0,0.0]|\n",
      "|              MI|      Data Scientist|156450|           M|                US|          22|          1.0|             1.0|        0.0|               0.0|  [22.0,1.0,0.0,0.0]|\n",
      "|              MI|      Data Scientist|119200|           M|                US|          25|          1.0|             1.0|        0.0|               0.0|  [25.0,1.0,0.0,0.0]|\n",
      "|              SE|        Data Analyst|170000|           M|                US|          65|          0.0|             0.0|        0.0|               0.0|      (4,[0],[65.0])|\n",
      "|              SE|        Data Analyst|130000|           M|                US|          89|          0.0|             0.0|        0.0|               0.0|      (4,[0],[89.0])|\n",
      "|              SE|   Applied Scientist|222200|           L|                US|          82|          9.0|             0.0|        2.0|               0.0|  [82.0,9.0,2.0,0.0]|\n",
      "|              SE|   Applied Scientist|136000|           L|                US|          12|          9.0|             0.0|        2.0|               0.0|  [12.0,9.0,2.0,0.0]|\n",
      "+----------------+--------------------+------+------------+------------------+------------+-------------+----------------+-----------+------------------+--------------------+\n",
      "only showing top 20 rows\n",
      "\n"
     ]
    }
   ],
   "source": [
    "output.show()"
   ]
  },
  {
   "cell_type": "code",
   "execution_count": 39,
   "metadata": {},
   "outputs": [
    {
     "name": "stdout",
     "output_type": "stream",
     "text": [
      "+--------------------+\n",
      "|Independent Features|\n",
      "+--------------------+\n",
      "|  [90.0,8.0,0.0,0.0]|\n",
      "|  [40.0,8.0,0.0,0.0]|\n",
      "|  [36.0,2.0,0.0,0.0]|\n",
      "|  [55.0,2.0,0.0,0.0]|\n",
      "|  [26.0,3.0,0.0,0.0]|\n",
      "|  [33.0,3.0,0.0,0.0]|\n",
      "|  [16.0,7.0,0.0,0.0]|\n",
      "|  [30.0,7.0,0.0,0.0]|\n",
      "|      (4,[0],[82.0])|\n",
      "|      (4,[0],[81.0])|\n",
      "|  [64.0,2.0,0.0,0.0]|\n",
      "|  [78.0,2.0,0.0,0.0]|\n",
      "| [88.0,18.0,0.0,0.0]|\n",
      "| [95.0,18.0,0.0,0.0]|\n",
      "|  [22.0,1.0,0.0,0.0]|\n",
      "|  [25.0,1.0,0.0,0.0]|\n",
      "|      (4,[0],[65.0])|\n",
      "|      (4,[0],[89.0])|\n",
      "|  [82.0,9.0,2.0,0.0]|\n",
      "|  [12.0,9.0,2.0,0.0]|\n",
      "+--------------------+\n",
      "only showing top 20 rows\n",
      "\n"
     ]
    }
   ],
   "source": [
    "output.select(\"Independent Features\").show()"
   ]
  },
  {
   "cell_type": "code",
   "execution_count": 40,
   "metadata": {},
   "outputs": [],
   "source": [
    "finalized_data = output.select(\"Independent Features\", \"Salary\")"
   ]
  },
  {
   "cell_type": "code",
   "execution_count": 41,
   "metadata": {},
   "outputs": [
    {
     "name": "stdout",
     "output_type": "stream",
     "text": [
      "+--------------------+------+\n",
      "|Independent Features|Salary|\n",
      "+--------------------+------+\n",
      "|  [90.0,8.0,0.0,0.0]|202730|\n",
      "|  [40.0,8.0,0.0,0.0]| 92118|\n",
      "|  [36.0,2.0,0.0,0.0]|130500|\n",
      "|  [55.0,2.0,0.0,0.0]| 96000|\n",
      "|  [26.0,3.0,0.0,0.0]|190000|\n",
      "|  [33.0,3.0,0.0,0.0]|160000|\n",
      "|  [16.0,7.0,0.0,0.0]|400000|\n",
      "|  [30.0,7.0,0.0,0.0]| 65000|\n",
      "|      (4,[0],[82.0])|101520|\n",
      "|      (4,[0],[81.0])| 45864|\n",
      "|  [64.0,2.0,0.0,0.0]|172469|\n",
      "|  [78.0,2.0,0.0,0.0]|114945|\n",
      "| [88.0,18.0,0.0,0.0]|200000|\n",
      "| [95.0,18.0,0.0,0.0]|150000|\n",
      "|  [22.0,1.0,0.0,0.0]|156450|\n",
      "|  [25.0,1.0,0.0,0.0]|119200|\n",
      "|      (4,[0],[65.0])|170000|\n",
      "|      (4,[0],[89.0])|130000|\n",
      "|  [82.0,9.0,2.0,0.0]|222200|\n",
      "|  [12.0,9.0,2.0,0.0]|136000|\n",
      "+--------------------+------+\n",
      "only showing top 20 rows\n",
      "\n"
     ]
    }
   ],
   "source": [
    "finalized_data.show()"
   ]
  },
  {
   "cell_type": "code",
   "execution_count": 43,
   "metadata": {},
   "outputs": [
    {
     "name": "stderr",
     "output_type": "stream",
     "text": [
      "24/06/18 12:04:17 WARN Instrumentation: [e9febbaa] regParam is zero, which might cause numerical instability and overfitting.\n"
     ]
    }
   ],
   "source": [
    "from pyspark.ml.regression import LinearRegression\n",
    "\n",
    "## Training test split\n",
    "train_data, test_data = finalized_data.randomSplit([0.75, 0.25])\n",
    "regressor = LinearRegression(featuresCol=\"Independent Features\", labelCol=\"Salary\")\n",
    "regressor = regressor.fit(train_data)\n"
   ]
  },
  {
   "cell_type": "code",
   "execution_count": 44,
   "metadata": {},
   "outputs": [
    {
     "data": {
      "text/plain": [
       "DenseVector([660.6937, 299.1765, 32542.9769, -22904.3268])"
      ]
     },
     "execution_count": 44,
     "metadata": {},
     "output_type": "execute_result"
    }
   ],
   "source": [
    "regressor.coefficients"
   ]
  },
  {
   "cell_type": "code",
   "execution_count": 47,
   "metadata": {},
   "outputs": [
    {
     "data": {
      "text/plain": [
       "97690.5581123637"
      ]
     },
     "execution_count": 47,
     "metadata": {},
     "output_type": "execute_result"
    }
   ],
   "source": [
    "regressor.intercept"
   ]
  },
  {
   "cell_type": "code",
   "execution_count": 48,
   "metadata": {},
   "outputs": [],
   "source": [
    "### Predictions\n",
    "pred_results = regressor.evaluate(test_data)"
   ]
  },
  {
   "cell_type": "code",
   "execution_count": 51,
   "metadata": {},
   "outputs": [
    {
     "name": "stdout",
     "output_type": "stream",
     "text": [
      "+--------------------+------+------------------+\n",
      "|Independent Features|Salary|        prediction|\n",
      "+--------------------+------+------------------+\n",
      "|      (4,[0],[49.0])|112300| 130064.5493129252|\n",
      "|      (4,[0],[65.0])|170000| 140635.6484804555|\n",
      "|      (4,[0],[81.0])| 45864| 151206.7476479858|\n",
      "|      (4,[0],[82.0])|101520| 151867.4413459564|\n",
      "|      (4,[0],[87.0])| 80000|155170.90983580964|\n",
      "|  [12.0,9.0,2.0,0.0]|136000|173397.42479499098|\n",
      "|  [16.0,7.0,0.0,0.0]|400000|110355.89273508193|\n",
      "|  [17.0,2.0,0.0,0.0]|155000|109520.70396506118|\n",
      "|  [20.0,4.0,0.0,0.0]|123800|112101.13804616967|\n",
      "|  [24.0,5.0,0.0,3.0]| 45000| 46330.10905944172|\n",
      "|  [26.0,3.0,0.0,0.0]|190000|115766.12374039524|\n",
      "|  [27.0,5.0,0.0,0.0]| 93838|117025.17042556245|\n",
      "| [30.0,12.0,0.0,0.0]| 95500|121101.48697466232|\n",
      "|  [35.0,4.0,0.0,0.0]|195000|122011.54351572931|\n",
      "|  [41.0,2.0,0.0,0.0]|100000|125377.35271635662|\n",
      "|  [46.0,5.0,0.0,0.0]| 69535|129578.35068700465|\n",
      "| [55.0,16.0,0.0,0.0]|240000| 138815.5353983215|\n",
      "|  [56.0,4.0,0.0,0.0]|170400|135886.11117311282|\n",
      "|  [57.0,6.0,0.0,0.0]|128000|   137145.15785828|\n",
      "|  [60.0,0.0,0.0,1.0]| 90000|114427.85323319935|\n",
      "+--------------------+------+------------------+\n",
      "only showing top 20 rows\n",
      "\n"
     ]
    }
   ],
   "source": [
    "## Final comparison\n",
    "final = pred_results.predictions\n",
    "final.show()"
   ]
  },
  {
   "cell_type": "code",
   "execution_count": null,
   "metadata": {},
   "outputs": [],
   "source": []
  },
  {
   "cell_type": "code",
   "execution_count": null,
   "metadata": {},
   "outputs": [],
   "source": []
  }
 ],
 "metadata": {
  "kernelspec": {
   "display_name": "Python 3",
   "language": "python",
   "name": "python3"
  },
  "language_info": {
   "codemirror_mode": {
    "name": "ipython",
    "version": 3
   },
   "file_extension": ".py",
   "mimetype": "text/x-python",
   "name": "python",
   "nbconvert_exporter": "python",
   "pygments_lexer": "ipython3",
   "version": "3.12.1"
  }
 },
 "nbformat": 4,
 "nbformat_minor": 2
}
