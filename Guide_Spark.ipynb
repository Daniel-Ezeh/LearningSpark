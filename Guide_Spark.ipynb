{
 "cells": [
  {
   "cell_type": "code",
   "execution_count": 2,
   "metadata": {},
   "outputs": [],
   "source": [
    "from pyspark.sql import SparkSession\n",
    "spark = SparkSession.builder.appName(\"mySpark\").getOrCreate()"
   ]
  },
  {
   "cell_type": "code",
   "execution_count": 9,
   "metadata": {},
   "outputs": [],
   "source": [
    "flightData = spark\\\n",
    "    .read.option(\"inferSchema\", \"true\")\\\n",
    "    .option(\"header\", \"true\")\\\n",
    "    .csv(\"Dataset_salary.csv\")"
   ]
  },
  {
   "cell_type": "code",
   "execution_count": 10,
   "metadata": {},
   "outputs": [
    {
     "data": {
      "text/plain": [
       "[Row(experience_level='SE', job_title='AI Engineer', salary=202730, company_size='M', employee_residence='US', remote_ratio=90),\n",
       " Row(experience_level='SE', job_title='AI Engineer', salary=92118, company_size='M', employee_residence='US', remote_ratio=40),\n",
       " Row(experience_level='SE', job_title='Data Engineer', salary=130500, company_size='M', employee_residence='US', remote_ratio=36)]"
      ]
     },
     "execution_count": 10,
     "metadata": {},
     "output_type": "execute_result"
    }
   ],
   "source": [
    "flightData.take(3)"
   ]
  },
  {
   "cell_type": "code",
   "execution_count": 12,
   "metadata": {},
   "outputs": [
    {
     "name": "stdout",
     "output_type": "stream",
     "text": [
      "== Physical Plan ==\n",
      "AdaptiveSparkPlan isFinalPlan=false\n",
      "+- Sort [job_title#89 ASC NULLS FIRST], true, 0\n",
      "   +- Exchange rangepartitioning(job_title#89 ASC NULLS FIRST, 200), ENSURE_REQUIREMENTS, [plan_id=83]\n",
      "      +- FileScan csv [experience_level#88,job_title#89,salary#90,company_size#91,employee_residence#92,remote_ratio#93] Batched: false, DataFilters: [], Format: CSV, Location: InMemoryFileIndex(1 paths)[file:/Users/nombauser/Desktop/GIT/my_git_repos/LearningSpark/Dataset_s..., PartitionFilters: [], PushedFilters: [], ReadSchema: struct<experience_level:string,job_title:string,salary:int,company_size:string,employee_residence...\n",
      "\n",
      "\n"
     ]
    }
   ],
   "source": [
    "flightData.sort(\"job_title\").explain()"
   ]
  },
  {
   "cell_type": "code",
   "execution_count": 13,
   "metadata": {},
   "outputs": [],
   "source": [
    "spark.conf.set(\"spark.sql.shuffle.partitions\", \"5\")\n",
    "flightData.sort(\"\")"
   ]
  },
  {
   "cell_type": "code",
   "execution_count": null,
   "metadata": {},
   "outputs": [],
   "source": []
  }
 ],
 "metadata": {
  "kernelspec": {
   "display_name": "Python 3 (ipykernel)",
   "language": "python",
   "name": "python3"
  },
  "language_info": {
   "codemirror_mode": {
    "name": "ipython",
    "version": 3
   },
   "file_extension": ".py",
   "mimetype": "text/x-python",
   "name": "python",
   "nbconvert_exporter": "python",
   "pygments_lexer": "ipython3",
   "version": "3.11.5"
  }
 },
 "nbformat": 4,
 "nbformat_minor": 2
}
