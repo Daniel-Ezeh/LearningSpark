{
 "cells": [
  {
   "cell_type": "code",
   "execution_count": 2,
   "metadata": {},
   "outputs": [],
   "source": [
    "from pyspark.sql import SparkSession\n",
    "spark = SparkSession.builder.appName(\"mySpark\").getOrCreate()"
   ]
  },
  {
   "cell_type": "code",
   "execution_count": 9,
   "metadata": {},
   "outputs": [],
   "source": [
    "flightData = spark\\\n",
    "    .read.option(\"inferSchema\", \"true\")\\\n",
    "    .option(\"header\", \"true\")\\\n",
    "    .csv(\"Dataset_salary.csv\")"
   ]
  },
  {
   "cell_type": "code",
   "execution_count": 10,
   "metadata": {},
   "outputs": [
    {
     "data": {
      "text/plain": [
       "[Row(experience_level='SE', job_title='AI Engineer', salary=202730, company_size='M', employee_residence='US', remote_ratio=90),\n",
       " Row(experience_level='SE', job_title='AI Engineer', salary=92118, company_size='M', employee_residence='US', remote_ratio=40),\n",
       " Row(experience_level='SE', job_title='Data Engineer', salary=130500, company_size='M', employee_residence='US', remote_ratio=36)]"
      ]
     },
     "execution_count": 10,
     "metadata": {},
     "output_type": "execute_result"
    }
   ],
   "source": [
    "flightData.take(3)"
   ]
  },
  {
   "cell_type": "code",
   "execution_count": 22,
   "metadata": {},
   "outputs": [
    {
     "name": "stdout",
     "output_type": "stream",
     "text": [
      "== Physical Plan ==\n",
      "AdaptiveSparkPlan isFinalPlan=false\n",
      "+- Sort [job_title#89 ASC NULLS FIRST], true, 0\n",
      "   +- Exchange rangepartitioning(job_title#89 ASC NULLS FIRST, 5), ENSURE_REQUIREMENTS, [plan_id=117]\n",
      "      +- FileScan csv [experience_level#88,job_title#89,salary#90,company_size#91,employee_residence#92,remote_ratio#93] Batched: false, DataFilters: [], Format: CSV, Location: InMemoryFileIndex(1 paths)[file:/Users/nombauser/Desktop/GIT/my_git_repos/LearningSpark/Dataset_s..., PartitionFilters: [], PushedFilters: [], ReadSchema: struct<experience_level:string,job_title:string,salary:int,company_size:string,employee_residence...\n",
      "\n",
      "\n"
     ]
    }
   ],
   "source": [
    "flightData.sort(\"job_title\").explain()"
   ]
  },
  {
   "cell_type": "code",
   "execution_count": 23,
   "metadata": {},
   "outputs": [
    {
     "data": {
      "text/plain": [
       "[Row(experience_level='MI', job_title='Data Engineer', salary=60300, company_size='M', employee_residence='US', remote_ratio=11),\n",
       " Row(experience_level='MI', job_title='Data Visualization Specialist', salary=67750, company_size='M', employee_residence='US', remote_ratio=11)]"
      ]
     },
     "execution_count": 23,
     "metadata": {},
     "output_type": "execute_result"
    }
   ],
   "source": [
    "spark.conf.set(\"spark.sql.shuffle.partitions\", \"5\")\n",
    "flightData.sort(\"remote_ratio\").take(2)"
   ]
  },
  {
   "cell_type": "code",
   "execution_count": 28,
   "metadata": {},
   "outputs": [
    {
     "name": "stdout",
     "output_type": "stream",
     "text": [
      "root\n",
      " |-- experience_level: string (nullable = true)\n",
      " |-- job_title: string (nullable = true)\n",
      " |-- salary: integer (nullable = true)\n",
      " |-- company_size: string (nullable = true)\n",
      " |-- employee_residence: string (nullable = true)\n",
      " |-- remote_ratio: integer (nullable = true)\n",
      "\n"
     ]
    }
   ],
   "source": [
    "flightData.printSchema()"
   ]
  },
  {
   "cell_type": "code",
   "execution_count": 29,
   "metadata": {},
   "outputs": [
    {
     "name": "stdout",
     "output_type": "stream",
     "text": [
      "+----------------+-------------+------+------------+------------------+------------+\n",
      "|experience_level|    job_title|salary|company_size|employee_residence|remote_ratio|\n",
      "+----------------+-------------+------+------------+------------------+------------+\n",
      "|              SE|  AI Engineer|202730|           M|                US|          90|\n",
      "|              SE|  AI Engineer| 92118|           M|                US|          40|\n",
      "|              SE|Data Engineer|130500|           M|                US|          36|\n",
      "|              SE|Data Engineer| 96000|           M|                US|          55|\n",
      "+----------------+-------------+------+------------+------------------+------------+\n",
      "only showing top 4 rows\n",
      "\n"
     ]
    }
   ],
   "source": [
    "flightData.show(4)"
   ]
  },
  {
   "cell_type": "markdown",
   "metadata": {},
   "source": [
    "#### Creating a Temporary View"
   ]
  },
  {
   "cell_type": "code",
   "execution_count": 26,
   "metadata": {},
   "outputs": [],
   "source": [
    "flightData.createOrReplaceTempView(\"Dataset\")"
   ]
  },
  {
   "cell_type": "markdown",
   "metadata": {},
   "source": [
    "##### Let's do it in two ways"
   ]
  },
  {
   "cell_type": "code",
   "execution_count": 34,
   "metadata": {},
   "outputs": [
    {
     "name": "stdout",
     "output_type": "stream",
     "text": [
      "+--------------------+-------------------------+\n",
      "|           job_title|count(employee_residence)|\n",
      "+--------------------+-------------------------+\n",
      "|       Data Engineer|                       14|\n",
      "|        Data Analyst|                       22|\n",
      "|Business Intellig...|                        2|\n",
      "|        Data Manager|                        4|\n",
      "|Data Integration ...|                        2|\n",
      "|        NLP Engineer|                        2|\n",
      "|   Applied Scientist|                        2|\n",
      "|        Data Modeler|                        2|\n",
      "|Data Visualizatio...|                        2|\n",
      "|         AI Engineer|                        2|\n",
      "|         ML Engineer|                        4|\n",
      "|Data Operations M...|                        2|\n",
      "|  Research Scientist|                        6|\n",
      "|Data Science Manager|                        2|\n",
      "|Data Product Manager|                        2|\n",
      "|Machine Learning ...|                        8|\n",
      "|      Data Scientist|                       15|\n",
      "|      Data Architect|                        4|\n",
      "|Business Intellig...|                        2|\n",
      "+--------------------+-------------------------+\n",
      "\n",
      "== Physical Plan ==\n",
      "AdaptiveSparkPlan isFinalPlan=false\n",
      "+- HashAggregate(keys=[job_title#89], functions=[count(employee_residence#92)])\n",
      "   +- Exchange hashpartitioning(job_title#89, 5), ENSURE_REQUIREMENTS, [plan_id=236]\n",
      "      +- HashAggregate(keys=[job_title#89], functions=[partial_count(employee_residence#92)])\n",
      "         +- FileScan csv [job_title#89,employee_residence#92] Batched: false, DataFilters: [], Format: CSV, Location: InMemoryFileIndex(1 paths)[file:/Users/nombauser/Desktop/GIT/my_git_repos/LearningSpark/Dataset_s..., PartitionFilters: [], PushedFilters: [], ReadSchema: struct<job_title:string,employee_residence:string>\n",
      "\n",
      "\n"
     ]
    }
   ],
   "source": [
    "sqlway = spark.sql(\n",
    "\"\"\"\n",
    "    SELECT\n",
    "        job_title,\n",
    "        COUNT(employee_residence)\n",
    "    FROM \n",
    "    Dataset\n",
    "    GROUP BY 1\n",
    "    \"\"\")\n",
    "\n",
    "sqlway.show()\n",
    "\n",
    "sqlway.explain()"
   ]
  },
  {
   "cell_type": "code",
   "execution_count": null,
   "metadata": {},
   "outputs": [],
   "source": []
  },
  {
   "cell_type": "code",
   "execution_count": null,
   "metadata": {},
   "outputs": [],
   "source": []
  },
  {
   "cell_type": "code",
   "execution_count": null,
   "metadata": {},
   "outputs": [],
   "source": []
  },
  {
   "cell_type": "code",
   "execution_count": null,
   "metadata": {},
   "outputs": [],
   "source": []
  },
  {
   "cell_type": "code",
   "execution_count": null,
   "metadata": {},
   "outputs": [],
   "source": []
  },
  {
   "cell_type": "code",
   "execution_count": null,
   "metadata": {},
   "outputs": [],
   "source": []
  },
  {
   "cell_type": "code",
   "execution_count": null,
   "metadata": {},
   "outputs": [],
   "source": []
  },
  {
   "cell_type": "code",
   "execution_count": null,
   "metadata": {},
   "outputs": [],
   "source": []
  },
  {
   "cell_type": "code",
   "execution_count": null,
   "metadata": {},
   "outputs": [],
   "source": []
  }
 ],
 "metadata": {
  "kernelspec": {
   "display_name": "Python 3 (ipykernel)",
   "language": "python",
   "name": "python3"
  },
  "language_info": {
   "codemirror_mode": {
    "name": "ipython",
    "version": 3
   },
   "file_extension": ".py",
   "mimetype": "text/x-python",
   "name": "python",
   "nbconvert_exporter": "python",
   "pygments_lexer": "ipython3",
   "version": "3.11.5"
  }
 },
 "nbformat": 4,
 "nbformat_minor": 2
}
