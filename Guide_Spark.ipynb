{
 "cells": [
  {
   "cell_type": "code",
   "execution_count": 1,
   "metadata": {},
   "outputs": [
    {
     "name": "stderr",
     "output_type": "stream",
     "text": [
      "24/07/08 09:25:54 WARN Utils: Your hostname, Nombas-MacBook-Pro-2.local resolves to a loopback address: 127.0.0.1; using 192.168.0.3 instead (on interface en0)\n",
      "24/07/08 09:25:54 WARN Utils: Set SPARK_LOCAL_IP if you need to bind to another address\n",
      "Setting default log level to \"WARN\".\n",
      "To adjust logging level use sc.setLogLevel(newLevel). For SparkR, use setLogLevel(newLevel).\n",
      "24/07/08 09:25:55 WARN NativeCodeLoader: Unable to load native-hadoop library for your platform... using builtin-java classes where applicable\n"
     ]
    }
   ],
   "source": [
    "from pyspark.sql import SparkSession\n",
    "spark = SparkSession.builder.appName(\"mySpark\").getOrCreate()"
   ]
  },
  {
   "cell_type": "code",
   "execution_count": 2,
   "metadata": {},
   "outputs": [
    {
     "name": "stderr",
     "output_type": "stream",
     "text": [
      "\r",
      "[Stage 0:>                                                          (0 + 1) / 1]\r",
      "\r",
      "                                                                                \r"
     ]
    }
   ],
   "source": [
    "flightData = spark\\\n",
    "    .read.option(\"inferSchema\", \"true\")\\\n",
    "    .option(\"header\", \"true\")\\\n",
    "    .csv(\"Dataset_salary.csv\")"
   ]
  },
  {
   "cell_type": "code",
   "execution_count": 3,
   "metadata": {},
   "outputs": [
    {
     "data": {
      "text/plain": [
       "[Row(experience_level='SE', job_title='AI Engineer', salary=202730, company_size='M', employee_residence='US', remote_ratio=90),\n",
       " Row(experience_level='SE', job_title='AI Engineer', salary=92118, company_size='M', employee_residence='US', remote_ratio=40),\n",
       " Row(experience_level='SE', job_title='Data Engineer', salary=130500, company_size='M', employee_residence='US', remote_ratio=36)]"
      ]
     },
     "execution_count": 3,
     "metadata": {},
     "output_type": "execute_result"
    }
   ],
   "source": [
    "flightData.take(3)"
   ]
  },
  {
   "cell_type": "code",
   "execution_count": 7,
   "metadata": {},
   "outputs": [
    {
     "name": "stdout",
     "output_type": "stream",
     "text": [
      "== Physical Plan ==\n",
      "AdaptiveSparkPlan isFinalPlan=false\n",
      "+- Sort [job_title#18 ASC NULLS FIRST], true, 0\n",
      "   +- Exchange rangepartitioning(job_title#18 ASC NULLS FIRST, 200), ENSURE_REQUIREMENTS, [plan_id=49]\n",
      "      +- FileScan csv [experience_level#17,job_title#18,salary#19,company_size#20,employee_residence#21,remote_ratio#22] Batched: false, DataFilters: [], Format: CSV, Location: InMemoryFileIndex(1 paths)[file:/Users/nombauser/Desktop/GIT/my_git_repos/LearningSpark/Dataset_s..., PartitionFilters: [], PushedFilters: [], ReadSchema: struct<experience_level:string,job_title:string,salary:int,company_size:string,employee_residence...\n",
      "\n",
      "\n"
     ]
    }
   ],
   "source": [
    "flightData.sort(\"job_title\").explain()"
   ]
  },
  {
   "cell_type": "code",
   "execution_count": 8,
   "metadata": {},
   "outputs": [
    {
     "data": {
      "text/plain": [
       "[Row(experience_level='MI', job_title='Data Engineer', salary=60300, company_size='M', employee_residence='US', remote_ratio=11),\n",
       " Row(experience_level='MI', job_title='Data Visualization Specialist', salary=67750, company_size='M', employee_residence='US', remote_ratio=11)]"
      ]
     },
     "execution_count": 8,
     "metadata": {},
     "output_type": "execute_result"
    }
   ],
   "source": [
    "spark.conf.set(\"spark.sql.shuffle.partitions\", \"5\")\n",
    "flightData.sort(\"remote_ratio\").take(2)"
   ]
  },
  {
   "cell_type": "code",
   "execution_count": 9,
   "metadata": {},
   "outputs": [
    {
     "name": "stdout",
     "output_type": "stream",
     "text": [
      "root\n",
      " |-- experience_level: string (nullable = true)\n",
      " |-- job_title: string (nullable = true)\n",
      " |-- salary: integer (nullable = true)\n",
      " |-- company_size: string (nullable = true)\n",
      " |-- employee_residence: string (nullable = true)\n",
      " |-- remote_ratio: integer (nullable = true)\n",
      "\n"
     ]
    }
   ],
   "source": [
    "flightData.printSchema()"
   ]
  },
  {
   "cell_type": "code",
   "execution_count": 4,
   "metadata": {},
   "outputs": [
    {
     "name": "stdout",
     "output_type": "stream",
     "text": [
      "+----------------+-------------+------+------------+------------------+------------+\n",
      "|experience_level|    job_title|salary|company_size|employee_residence|remote_ratio|\n",
      "+----------------+-------------+------+------------+------------------+------------+\n",
      "|              SE|  AI Engineer|202730|           M|                US|          90|\n",
      "|              SE|  AI Engineer| 92118|           M|                US|          40|\n",
      "|              SE|Data Engineer|130500|           M|                US|          36|\n",
      "|              SE|Data Engineer| 96000|           M|                US|          55|\n",
      "+----------------+-------------+------+------------+------------------+------------+\n",
      "only showing top 4 rows\n",
      "\n"
     ]
    }
   ],
   "source": [
    "flightData.show(4)"
   ]
  },
  {
   "cell_type": "markdown",
   "metadata": {},
   "source": [
    "#### Creating a Temporary View"
   ]
  },
  {
   "cell_type": "code",
   "execution_count": 6,
   "metadata": {},
   "outputs": [],
   "source": [
    "flightData.createOrReplaceTempView(\"Dataset\")"
   ]
  },
  {
   "cell_type": "markdown",
   "metadata": {},
   "source": [
    "##### Let's do it in two ways"
   ]
  },
  {
   "cell_type": "code",
   "execution_count": 7,
   "metadata": {},
   "outputs": [
    {
     "name": "stdout",
     "output_type": "stream",
     "text": [
      "+--------------------+-------------------------+\n",
      "|           job_title|count(employee_residence)|\n",
      "+--------------------+-------------------------+\n",
      "|        Data Modeler|                        2|\n",
      "|Data Visualizatio...|                        2|\n",
      "|Data Operations M...|                        2|\n",
      "|Data Integration ...|                        2|\n",
      "|Machine Learning ...|                        8|\n",
      "|Business Intellig...|                        2|\n",
      "|  Research Scientist|                        6|\n",
      "|      Data Scientist|                       15|\n",
      "|        Data Analyst|                       22|\n",
      "|         ML Engineer|                        4|\n",
      "|   Applied Scientist|                        2|\n",
      "|Data Product Manager|                        2|\n",
      "|        Data Manager|                        4|\n",
      "|Data Science Manager|                        2|\n",
      "|        NLP Engineer|                        2|\n",
      "|      Data Architect|                        4|\n",
      "|         AI Engineer|                        2|\n",
      "|Business Intellig...|                        2|\n",
      "|       Data Engineer|                       14|\n",
      "+--------------------+-------------------------+\n",
      "\n",
      "== Physical Plan ==\n",
      "AdaptiveSparkPlan isFinalPlan=false\n",
      "+- HashAggregate(keys=[job_title#18], functions=[count(employee_residence#21)])\n",
      "   +- Exchange hashpartitioning(job_title#18, 200), ENSURE_REQUIREMENTS, [plan_id=92]\n",
      "      +- HashAggregate(keys=[job_title#18], functions=[partial_count(employee_residence#21)])\n",
      "         +- FileScan csv [job_title#18,employee_residence#21] Batched: false, DataFilters: [], Format: CSV, Location: InMemoryFileIndex(1 paths)[file:/Users/nombauser/Desktop/GIT/my_git_repos/LearningSpark/Dataset_s..., PartitionFilters: [], PushedFilters: [], ReadSchema: struct<job_title:string,employee_residence:string>\n",
      "\n",
      "\n"
     ]
    }
   ],
   "source": [
    "sqlway = spark.sql(\n",
    "\"\"\"\n",
    "    SELECT\n",
    "        job_title,\n",
    "        COUNT(employee_residence)\n",
    "    FROM \n",
    "    Dataset\n",
    "    GROUP BY 1\n",
    "    \"\"\")\n",
    "\n",
    "sqlway.show()\n",
    "\n",
    "sqlway.explain()"
   ]
  },
  {
   "cell_type": "code",
   "execution_count": 38,
   "metadata": {},
   "outputs": [
    {
     "name": "stdout",
     "output_type": "stream",
     "text": [
      "== Physical Plan ==\n",
      "AdaptiveSparkPlan isFinalPlan=false\n",
      "+- HashAggregate(keys=[job_title#89], functions=[count(1)])\n",
      "   +- Exchange hashpartitioning(job_title#89, 5), ENSURE_REQUIREMENTS, [plan_id=357]\n",
      "      +- HashAggregate(keys=[job_title#89], functions=[partial_count(1)])\n",
      "         +- FileScan csv [job_title#89] Batched: false, DataFilters: [], Format: CSV, Location: InMemoryFileIndex(1 paths)[file:/Users/nombauser/Desktop/GIT/my_git_repos/LearningSpark/Dataset_s..., PartitionFilters: [], PushedFilters: [], ReadSchema: struct<job_title:string>\n",
      "\n",
      "\n"
     ]
    }
   ],
   "source": [
    "dataFrame_way = flightData\\\n",
    "    .groupBy(\"job_title\")\\\n",
    "    .count()\n",
    "\n",
    "dataFrame_way.explain()"
   ]
  },
  {
   "cell_type": "code",
   "execution_count": 40,
   "metadata": {},
   "outputs": [
    {
     "data": {
      "text/plain": [
       "[Row(max(salary)=400000)]"
      ]
     },
     "execution_count": 40,
     "metadata": {},
     "output_type": "execute_result"
    }
   ],
   "source": [
    "# Importing functions\n",
    "\n",
    "from pyspark.sql.functions import *\n",
    "flightData.select(max(\"salary\")).take(2)"
   ]
  },
  {
   "cell_type": "code",
   "execution_count": 13,
   "metadata": {},
   "outputs": [
    {
     "name": "stdout",
     "output_type": "stream",
     "text": [
      "+--------------+\n",
      "|Highest Salary|\n",
      "+--------------+\n",
      "|        400000|\n",
      "+--------------+\n",
      "\n",
      "== Physical Plan ==\n",
      "AdaptiveSparkPlan isFinalPlan=false\n",
      "+- HashAggregate(keys=[], functions=[max(SALARY#19)])\n",
      "   +- Exchange SinglePartition, ENSURE_REQUIREMENTS, [plan_id=169]\n",
      "      +- HashAggregate(keys=[], functions=[partial_max(SALARY#19)])\n",
      "         +- FileScan csv [salary#19] Batched: false, DataFilters: [], Format: CSV, Location: InMemoryFileIndex(1 paths)[file:/Users/nombauser/Desktop/GIT/my_git_repos/LearningSpark/Dataset_s..., PartitionFilters: [], PushedFilters: [], ReadSchema: struct<salary:int>\n",
      "\n",
      "\n"
     ]
    }
   ],
   "source": [
    "from pyspark.sql import *\n",
    "ss = spark.sql(\n",
    "\"\"\"\n",
    "    SELECT MAX(SALARY) AS `Highest Salary`\n",
    "    FROM Dataset\n",
    "\"\"\")\n",
    "\n",
    "ss.show()\n",
    "ss.explain()"
   ]
  },
  {
   "cell_type": "markdown",
   "metadata": {},
   "source": [
    "#### Writing a more complex Transfromation with our DataSet"
   ]
  },
  {
   "cell_type": "code",
   "execution_count": 8,
   "metadata": {},
   "outputs": [
    {
     "name": "stdout",
     "output_type": "stream",
     "text": [
      "+--------------------+-----------+\n",
      "|           job_title|max(salary)|\n",
      "+--------------------+-----------+\n",
      "|         ML Engineer|     400000|\n",
      "|  Research Scientist|     260570|\n",
      "|      Data Scientist|     257600|\n",
      "|Machine Learning ...|     251250|\n",
      "|Data Science Manager|     240000|\n",
      "+--------------------+-----------+\n",
      "\n"
     ]
    }
   ],
   "source": [
    "maxSql = spark.sql(\"\"\"\n",
    "    SELECT \n",
    "        job_title,\n",
    "        MAX(salary)\n",
    "    FROM Dataset\n",
    "    GROUP BY 1\n",
    "    ORDER BY 2 DESC\n",
    "    LIMIT 5\n",
    "\"\"\")\n",
    "\n",
    "# maxSql.collect()\n",
    "maxSql.show()"
   ]
  },
  {
   "cell_type": "code",
   "execution_count": 9,
   "metadata": {},
   "outputs": [
    {
     "name": "stdout",
     "output_type": "stream",
     "text": [
      "+--------------------+--------------+\n",
      "|           job_title|Maximum Salary|\n",
      "+--------------------+--------------+\n",
      "|         ML Engineer|        400000|\n",
      "|  Research Scientist|        260570|\n",
      "|      Data Scientist|        257600|\n",
      "|Machine Learning ...|        251250|\n",
      "|Data Science Manager|        240000|\n",
      "+--------------------+--------------+\n",
      "\n"
     ]
    }
   ],
   "source": [
    "from pyspark.sql.functions import *\n",
    "\n",
    "df = flightData.groupBy(\"job_title\")\\\n",
    "    .max(\"salary\")\\\n",
    "    .withColumnRenamed(\"max(salary)\", \"Maximum Salary\")\\\n",
    "    .sort(desc(\"Maximum Salary\"))\\\n",
    "    .limit(5)\n",
    "\n",
    "df.show()"
   ]
  },
  {
   "cell_type": "code",
   "execution_count": null,
   "metadata": {},
   "outputs": [],
   "source": []
  },
  {
   "cell_type": "code",
   "execution_count": null,
   "metadata": {},
   "outputs": [],
   "source": []
  },
  {
   "cell_type": "code",
   "execution_count": null,
   "metadata": {},
   "outputs": [],
   "source": []
  },
  {
   "cell_type": "code",
   "execution_count": null,
   "metadata": {},
   "outputs": [],
   "source": []
  },
  {
   "cell_type": "code",
   "execution_count": null,
   "metadata": {},
   "outputs": [],
   "source": []
  },
  {
   "cell_type": "code",
   "execution_count": null,
   "metadata": {},
   "outputs": [],
   "source": []
  },
  {
   "cell_type": "code",
   "execution_count": null,
   "metadata": {},
   "outputs": [],
   "source": []
  },
  {
   "cell_type": "code",
   "execution_count": null,
   "metadata": {},
   "outputs": [],
   "source": []
  },
  {
   "cell_type": "code",
   "execution_count": null,
   "metadata": {},
   "outputs": [],
   "source": []
  },
  {
   "cell_type": "code",
   "execution_count": null,
   "metadata": {},
   "outputs": [],
   "source": []
  },
  {
   "cell_type": "code",
   "execution_count": null,
   "metadata": {},
   "outputs": [],
   "source": []
  },
  {
   "cell_type": "code",
   "execution_count": null,
   "metadata": {},
   "outputs": [],
   "source": []
  },
  {
   "cell_type": "code",
   "execution_count": null,
   "metadata": {},
   "outputs": [],
   "source": []
  },
  {
   "cell_type": "code",
   "execution_count": null,
   "metadata": {},
   "outputs": [],
   "source": []
  },
  {
   "cell_type": "code",
   "execution_count": null,
   "metadata": {},
   "outputs": [],
   "source": []
  }
 ],
 "metadata": {
  "kernelspec": {
   "display_name": "Python 3 (ipykernel)",
   "language": "python",
   "name": "python3"
  },
  "language_info": {
   "codemirror_mode": {
    "name": "ipython",
    "version": 3
   },
   "file_extension": ".py",
   "mimetype": "text/x-python",
   "name": "python",
   "nbconvert_exporter": "python",
   "pygments_lexer": "ipython3",
   "version": "3.11.5"
  }
 },
 "nbformat": 4,
 "nbformat_minor": 2
}
